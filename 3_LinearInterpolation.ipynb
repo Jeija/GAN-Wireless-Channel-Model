{
 "cells": [
  {
   "cell_type": "code",
   "execution_count": 1,
   "id": "058147f8-83e4-440d-8028-322c02bc9074",
   "metadata": {},
   "outputs": [
    {
     "name": "stderr",
     "output_type": "stream",
     "text": [
      "2024-02-10 15:53:37.835356: I tensorflow/core/platform/cpu_feature_guard.cc:182] This TensorFlow binary is optimized to use available CPU instructions in performance-critical operations.\n",
      "To enable the following instructions: AVX2 FMA, in other operations, rebuild TensorFlow with the appropriate compiler flags.\n",
      "2024-02-10 15:53:38.576023: W tensorflow/compiler/tf2tensorrt/utils/py_utils.cc:38] TF-TRT Warning: Could not find TensorRT\n",
      "2024-02-10 15:53:39.558489: I tensorflow/compiler/xla/stream_executor/cuda/cuda_gpu_executor.cc:995] successful NUMA node read from SysFS had negative value (-1), but there must be at least one NUMA node, so returning NUMA node zero. See more at https://github.com/torvalds/linux/blob/v6.0/Documentation/ABI/testing/sysfs-bus-pci#L344-L355\n",
      "2024-02-10 15:53:39.582126: I tensorflow/compiler/xla/stream_executor/cuda/cuda_gpu_executor.cc:995] successful NUMA node read from SysFS had negative value (-1), but there must be at least one NUMA node, so returning NUMA node zero. See more at https://github.com/torvalds/linux/blob/v6.0/Documentation/ABI/testing/sysfs-bus-pci#L344-L355\n",
      "2024-02-10 15:53:39.582416: I tensorflow/compiler/xla/stream_executor/cuda/cuda_gpu_executor.cc:995] successful NUMA node read from SysFS had negative value (-1), but there must be at least one NUMA node, so returning NUMA node zero. See more at https://github.com/torvalds/linux/blob/v6.0/Documentation/ABI/testing/sysfs-bus-pci#L344-L355\n",
      "2024-02-10 15:53:39.583743: I tensorflow/compiler/xla/stream_executor/cuda/cuda_gpu_executor.cc:995] successful NUMA node read from SysFS had negative value (-1), but there must be at least one NUMA node, so returning NUMA node zero. See more at https://github.com/torvalds/linux/blob/v6.0/Documentation/ABI/testing/sysfs-bus-pci#L344-L355\n",
      "2024-02-10 15:53:39.583970: I tensorflow/compiler/xla/stream_executor/cuda/cuda_gpu_executor.cc:995] successful NUMA node read from SysFS had negative value (-1), but there must be at least one NUMA node, so returning NUMA node zero. See more at https://github.com/torvalds/linux/blob/v6.0/Documentation/ABI/testing/sysfs-bus-pci#L344-L355\n",
      "2024-02-10 15:53:39.584174: I tensorflow/compiler/xla/stream_executor/cuda/cuda_gpu_executor.cc:995] successful NUMA node read from SysFS had negative value (-1), but there must be at least one NUMA node, so returning NUMA node zero. See more at https://github.com/torvalds/linux/blob/v6.0/Documentation/ABI/testing/sysfs-bus-pci#L344-L355\n",
      "2024-02-10 15:53:40.099192: I tensorflow/compiler/xla/stream_executor/cuda/cuda_gpu_executor.cc:995] successful NUMA node read from SysFS had negative value (-1), but there must be at least one NUMA node, so returning NUMA node zero. See more at https://github.com/torvalds/linux/blob/v6.0/Documentation/ABI/testing/sysfs-bus-pci#L344-L355\n",
      "2024-02-10 15:53:40.099448: I tensorflow/compiler/xla/stream_executor/cuda/cuda_gpu_executor.cc:995] successful NUMA node read from SysFS had negative value (-1), but there must be at least one NUMA node, so returning NUMA node zero. See more at https://github.com/torvalds/linux/blob/v6.0/Documentation/ABI/testing/sysfs-bus-pci#L344-L355\n",
      "2024-02-10 15:53:40.099659: I tensorflow/compiler/xla/stream_executor/cuda/cuda_gpu_executor.cc:995] successful NUMA node read from SysFS had negative value (-1), but there must be at least one NUMA node, so returning NUMA node zero. See more at https://github.com/torvalds/linux/blob/v6.0/Documentation/ABI/testing/sysfs-bus-pci#L344-L355\n",
      "2024-02-10 15:53:40.099829: I tensorflow/core/common_runtime/gpu/gpu_device.cc:1639] Created device /job:localhost/replica:0/task:0/device:GPU:0 with 14118 MB memory:  -> device: 0, name: NVIDIA GeForce RTX 4080, pci bus id: 0000:81:00.0, compute capability: 8.9\n",
      "2024-02-10 15:53:40.997640: I tensorflow/core/grappler/optimizers/data/replicate_on_split.cc:32] Running replicate on split optimization\n",
      "2024-02-10 15:53:41.054421: I tensorflow/core/grappler/optimizers/data/replicate_on_split.cc:32] Running replicate on split optimization\n"
     ]
    }
   ],
   "source": [
    "from dichasus_cf0x import training_set, spec\n",
    "import matplotlib.pyplot as plt\n",
    "import tensorflow as tf\n",
    "import numpy as np\n",
    "from tqdm.auto import tqdm\n",
    "import scipy"
   ]
  },
  {
   "cell_type": "code",
   "execution_count": 2,
   "id": "04d5a12b-2e2e-4a57-ba10-8589d614c0c5",
   "metadata": {},
   "outputs": [],
   "source": [
    "training_set_positions = np.load(\"results/training_set_positions.npy\")\n",
    "test_set_positions = np.load(\"results/test_set_positions.npy\")"
   ]
  },
  {
   "cell_type": "code",
   "execution_count": 3,
   "id": "d736e82a-a8cc-49d4-b75e-531cfada384b",
   "metadata": {},
   "outputs": [
    {
     "data": {
      "application/vnd.jupyter.widget-view+json": {
       "model_id": "248037020fde49c3a534f67b62f81e72",
       "version_major": 2,
       "version_minor": 0
      },
      "text/plain": [
       "  0%|          | 0/17857 [00:00<?, ?it/s]"
      ]
     },
     "metadata": {},
     "output_type": "display_data"
    }
   ],
   "source": [
    "# Use \"training set\" CSI to predict CSI at test set positions\n",
    "training_set_csi = []\n",
    "\n",
    "with tqdm(total = len(training_set_positions)) as pbar:\n",
    "    for csi, pos, time, ds in training_set.batch(100):\n",
    "        training_set_csi.append(csi.numpy())\n",
    "        pbar.update(tf.shape(csi)[0].numpy())\n",
    "\n",
    "training_set_csi = np.concatenate(training_set_csi)"
   ]
  },
  {
   "cell_type": "code",
   "execution_count": 4,
   "id": "09cd028b-d68b-4fa3-ac52-cfa7f4051738",
   "metadata": {},
   "outputs": [],
   "source": [
    "# Interpolate multiple CSI datapoints, with weights s (barycentric coordinates)\n",
    "# CSI must be in frequency domain!\n",
    "def csi_interp(csi, s, iterations = 10):\n",
    "    phi = np.zeros_like(s)\n",
    "    w = None\n",
    "    dims = len(csi.shape)\n",
    "    #errors = []\n",
    "    \n",
    "    for i in range(iterations):\n",
    "        w = np.einsum(\"n,n,n...->...\", s, np.exp(-1.0j * phi), csi)\n",
    "        phi = np.angle(np.einsum(\"a,na->n\", np.conj(w.flatten()), csi.reshape(len(csi), -1)))\n",
    "        #errors.append(np.sum([s[n] * np.linalg.norm(csi[n] - np.exp(1.0j * phi[n]) * w)**2 for n in range(len(csi))]))\n",
    "\n",
    "    #plt.plot(errors)\n",
    "    #plt.show()\n",
    "\n",
    "    return w"
   ]
  },
  {
   "cell_type": "code",
   "execution_count": 5,
   "id": "1a5678c9-ce0d-4a32-b587-70c38b9041b6",
   "metadata": {},
   "outputs": [],
   "source": [
    "def interpolate_csi_delaunay(existing_points, csi_at_existing_points, evaluation_points):\n",
    "    tri = scipy.spatial.Delaunay(existing_points[:,:2])\n",
    "    simplices = tri.find_simplex(evaluation_points)\n",
    "\n",
    "    csi_interpolated = np.zeros(evaluation_points.shape[:1] + csi_at_existing_points.shape[1:], dtype = np.complex64)\n",
    "\n",
    "    for i, simplex in enumerate(tqdm(simplices)):\n",
    "        b = np.dot(tri.transform[simplex, :2], evaluation_points[i] - tri.transform[simplex, 2])\n",
    "        bary_coords = np.r_[b, 1 - np.sum(b)]\n",
    "        vertex_indices = tri.simplices[simplex]\n",
    "        csi_vertices = csi_at_existing_points[vertex_indices]\n",
    "        csi_interpolated[i] = csi_interp(csi_vertices, bary_coords)\n",
    "\n",
    "    return csi_interpolated, (simplices >= 0)\n"
   ]
  },
  {
   "cell_type": "code",
   "execution_count": 6,
   "id": "1c59c78d-c5dd-4849-9a7c-0ca97f1a8352",
   "metadata": {},
   "outputs": [
    {
     "data": {
      "application/vnd.jupyter.widget-view+json": {
       "model_id": "4abee3bc42c54e18b1fd1d12f91a4cf9",
       "version_major": 2,
       "version_minor": 0
      },
      "text/plain": [
       "  0%|          | 0/20973 [00:00<?, ?it/s]"
      ]
     },
     "metadata": {},
     "output_type": "display_data"
    }
   ],
   "source": [
    "test_set_csi_interpolated, test_set_csi_interpolated_valid = interpolate_csi_delaunay(training_set_positions[:,:2], training_set_csi, test_set_positions[:,:2])"
   ]
  },
  {
   "cell_type": "code",
   "execution_count": 7,
   "id": "f1584ee7-38f1-4a3b-940f-5961d1c3e258",
   "metadata": {},
   "outputs": [],
   "source": [
    "np.save(\"results/test_set_csi_interpolated.npy\", np.stack([np.real(test_set_csi_interpolated), np.imag(test_set_csi_interpolated)], axis = -1))\n",
    "np.save(\"results/test_set_csi_interpolated_valid.npy\", test_set_csi_interpolated_valid)"
   ]
  },
  {
   "cell_type": "code",
   "execution_count": null,
   "id": "35e7e4ef-c077-42f4-9332-b9da9a79241d",
   "metadata": {},
   "outputs": [],
   "source": []
  }
 ],
 "metadata": {
  "kernelspec": {
   "display_name": "Python 3 (ipykernel)",
   "language": "python",
   "name": "python3"
  },
  "language_info": {
   "codemirror_mode": {
    "name": "ipython",
    "version": 3
   },
   "file_extension": ".py",
   "mimetype": "text/x-python",
   "name": "python",
   "nbconvert_exporter": "python",
   "pygments_lexer": "ipython3",
   "version": "3.11.7"
  }
 },
 "nbformat": 4,
 "nbformat_minor": 5
}
