{
 "cells": [
  {
   "cell_type": "code",
   "execution_count": 1,
   "id": "f030e94c-0df6-4cb2-a358-2a3ffa7f470e",
   "metadata": {},
   "outputs": [
    {
     "name": "stderr",
     "output_type": "stream",
     "text": [
      "2024-02-10 16:38:43.702320: I tensorflow/core/platform/cpu_feature_guard.cc:182] This TensorFlow binary is optimized to use available CPU instructions in performance-critical operations.\n",
      "To enable the following instructions: AVX2 FMA, in other operations, rebuild TensorFlow with the appropriate compiler flags.\n",
      "2024-02-10 16:38:44.478801: W tensorflow/compiler/tf2tensorrt/utils/py_utils.cc:38] TF-TRT Warning: Could not find TensorRT\n",
      "2024-02-10 16:38:45.458548: I tensorflow/compiler/xla/stream_executor/cuda/cuda_gpu_executor.cc:995] successful NUMA node read from SysFS had negative value (-1), but there must be at least one NUMA node, so returning NUMA node zero. See more at https://github.com/torvalds/linux/blob/v6.0/Documentation/ABI/testing/sysfs-bus-pci#L344-L355\n",
      "2024-02-10 16:38:45.482729: I tensorflow/compiler/xla/stream_executor/cuda/cuda_gpu_executor.cc:995] successful NUMA node read from SysFS had negative value (-1), but there must be at least one NUMA node, so returning NUMA node zero. See more at https://github.com/torvalds/linux/blob/v6.0/Documentation/ABI/testing/sysfs-bus-pci#L344-L355\n",
      "2024-02-10 16:38:45.483028: I tensorflow/compiler/xla/stream_executor/cuda/cuda_gpu_executor.cc:995] successful NUMA node read from SysFS had negative value (-1), but there must be at least one NUMA node, so returning NUMA node zero. See more at https://github.com/torvalds/linux/blob/v6.0/Documentation/ABI/testing/sysfs-bus-pci#L344-L355\n",
      "2024-02-10 16:38:45.484465: I tensorflow/compiler/xla/stream_executor/cuda/cuda_gpu_executor.cc:995] successful NUMA node read from SysFS had negative value (-1), but there must be at least one NUMA node, so returning NUMA node zero. See more at https://github.com/torvalds/linux/blob/v6.0/Documentation/ABI/testing/sysfs-bus-pci#L344-L355\n",
      "2024-02-10 16:38:45.484691: I tensorflow/compiler/xla/stream_executor/cuda/cuda_gpu_executor.cc:995] successful NUMA node read from SysFS had negative value (-1), but there must be at least one NUMA node, so returning NUMA node zero. See more at https://github.com/torvalds/linux/blob/v6.0/Documentation/ABI/testing/sysfs-bus-pci#L344-L355\n",
      "2024-02-10 16:38:45.484896: I tensorflow/compiler/xla/stream_executor/cuda/cuda_gpu_executor.cc:995] successful NUMA node read from SysFS had negative value (-1), but there must be at least one NUMA node, so returning NUMA node zero. See more at https://github.com/torvalds/linux/blob/v6.0/Documentation/ABI/testing/sysfs-bus-pci#L344-L355\n",
      "2024-02-10 16:38:46.025694: I tensorflow/compiler/xla/stream_executor/cuda/cuda_gpu_executor.cc:995] successful NUMA node read from SysFS had negative value (-1), but there must be at least one NUMA node, so returning NUMA node zero. See more at https://github.com/torvalds/linux/blob/v6.0/Documentation/ABI/testing/sysfs-bus-pci#L344-L355\n",
      "2024-02-10 16:38:46.026013: I tensorflow/compiler/xla/stream_executor/cuda/cuda_gpu_executor.cc:995] successful NUMA node read from SysFS had negative value (-1), but there must be at least one NUMA node, so returning NUMA node zero. See more at https://github.com/torvalds/linux/blob/v6.0/Documentation/ABI/testing/sysfs-bus-pci#L344-L355\n",
      "2024-02-10 16:38:46.026277: I tensorflow/compiler/xla/stream_executor/cuda/cuda_gpu_executor.cc:995] successful NUMA node read from SysFS had negative value (-1), but there must be at least one NUMA node, so returning NUMA node zero. See more at https://github.com/torvalds/linux/blob/v6.0/Documentation/ABI/testing/sysfs-bus-pci#L344-L355\n",
      "2024-02-10 16:38:46.026485: I tensorflow/core/common_runtime/gpu/gpu_device.cc:1639] Created device /job:localhost/replica:0/task:0/device:GPU:0 with 14118 MB memory:  -> device: 0, name: NVIDIA GeForce RTX 4080, pci bus id: 0000:81:00.0, compute capability: 8.9\n",
      "2024-02-10 16:38:46.951440: I tensorflow/core/grappler/optimizers/data/replicate_on_split.cc:32] Running replicate on split optimization\n",
      "2024-02-10 16:38:47.014780: I tensorflow/core/grappler/optimizers/data/replicate_on_split.cc:32] Running replicate on split optimization\n"
     ]
    }
   ],
   "source": [
    "from dichasus_cf0x import training_set, spec\n",
    "import matplotlib.pyplot as plt\n",
    "import tensorflow as tf\n",
    "import numpy as np\n",
    "import tqdm"
   ]
  },
  {
   "cell_type": "code",
   "execution_count": 2,
   "id": "2c67c2b3-4969-4d0b-a006-461b3d3d9568",
   "metadata": {},
   "outputs": [],
   "source": [
    "generator = tf.keras.models.load_model('results/generator.keras')"
   ]
  },
  {
   "cell_type": "code",
   "execution_count": 3,
   "id": "469456cf-fa94-439b-889f-238af5b9a4a0",
   "metadata": {},
   "outputs": [],
   "source": [
    "NOISE_SHAPE = generator.layers[0].input_shape[0][1]\n",
    "POS_SHAPE = generator.layers[1].input_shape[0][1]"
   ]
  },
  {
   "cell_type": "markdown",
   "id": "2e604df7-49ae-4050-8e8e-052c33ce36a3",
   "metadata": {},
   "source": [
    "### Use normalized test set coordinates as position coordinates"
   ]
  },
  {
   "cell_type": "code",
   "execution_count": 4,
   "id": "2c868868-9582-481e-9823-f4ea8b5c7769",
   "metadata": {},
   "outputs": [],
   "source": [
    "test_set_positions = np.load(\"results/test_set_positions.npy\")\n",
    "training_set_positions = np.load(\"results/training_set_positions.npy\")\n",
    "pos_xmin = np.min(training_set_positions[:,0])\n",
    "pos_xmax = np.max(training_set_positions[:,0])\n",
    "pos_ymin = np.min(training_set_positions[:,1])\n",
    "pos_ymax = np.max(training_set_positions[:,1])\n",
    "\n",
    "def normalize_pos(pos):\n",
    "    x_norm = 2 * (pos[...,0] - pos_xmin) / (pos_xmax - pos_xmin) - 1\n",
    "    y_norm = 2 * (pos[...,1] - pos_ymin) / (pos_ymax - pos_ymin) - 1\n",
    "    return tf.stack([x_norm, y_norm], axis = -1)\n",
    "\n",
    "pos_gpu = tf.constant(tf.cast(normalize_pos(test_set_positions), tf.float32), dtype = tf.float32)"
   ]
  },
  {
   "cell_type": "markdown",
   "id": "7e1f24df-848c-441e-aa2e-97d1dbdb0ada",
   "metadata": {},
   "source": [
    "### Fixed noise CSI"
   ]
  },
  {
   "cell_type": "code",
   "execution_count": 5,
   "id": "72754ad5-3d5c-40da-8efb-dcabff50c10a",
   "metadata": {},
   "outputs": [
    {
     "name": "stderr",
     "output_type": "stream",
     "text": [
      "2024-02-10 16:38:48.582714: I tensorflow/compiler/xla/stream_executor/cuda/cuda_blas.cc:606] TensorFloat-32 will be used for the matrix multiplication. This will only be logged once.\n"
     ]
    }
   ],
   "source": [
    "fixed_noise = tf.random.normal([NOISE_SHAPE])\n",
    "fixed_noise_repeated = tf.tile(fixed_noise[tf.newaxis,:], [tf.shape(pos_gpu)[0], 1])\n",
    "test_set_csi_gan_fixednoise = generator([fixed_noise_repeated, pos_gpu], training = False).numpy()\n",
    "np.save(\"results/test_set_csi_gan_fixednoise.npy\", test_set_csi_gan_fixednoise)"
   ]
  },
  {
   "cell_type": "markdown",
   "id": "d016308a-8ab3-4e01-a1bb-1093ce9c026e",
   "metadata": {},
   "source": [
    "### Random noise CSI"
   ]
  },
  {
   "cell_type": "code",
   "execution_count": 6,
   "id": "1740222f-d201-4b5e-aaee-7ea3ca2d46fe",
   "metadata": {},
   "outputs": [],
   "source": [
    "random_noise = tf.random.normal([np.shape(pos_gpu)[0], NOISE_SHAPE])\n",
    "test_set_csi_gan_randomnoise = generator([random_noise, pos_gpu], training = False).numpy()\n",
    "np.save(\"results/test_set_csi_gan_randomnoise.npy\", test_set_csi_gan_randomnoise)"
   ]
  },
  {
   "cell_type": "code",
   "execution_count": null,
   "id": "3810dce1-7be2-424b-9861-a17bd0f2ff65",
   "metadata": {},
   "outputs": [],
   "source": []
  }
 ],
 "metadata": {
  "kernelspec": {
   "display_name": "Python 3 (ipykernel)",
   "language": "python",
   "name": "python3"
  },
  "language_info": {
   "codemirror_mode": {
    "name": "ipython",
    "version": 3
   },
   "file_extension": ".py",
   "mimetype": "text/x-python",
   "name": "python",
   "nbconvert_exporter": "python",
   "pygments_lexer": "ipython3",
   "version": "3.11.7"
  }
 },
 "nbformat": 4,
 "nbformat_minor": 5
}
